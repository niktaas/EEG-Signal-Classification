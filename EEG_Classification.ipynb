{
  "nbformat": 4,
  "nbformat_minor": 0,
  "metadata": {
    "colab": {
      "name": "EEG_Classification.ipynb",
      "provenance": [],
      "collapsed_sections": [],
      "toc_visible": true
    },
    "kernelspec": {
      "name": "python3",
      "display_name": "Python 3"
    },
    "language_info": {
      "name": "python"
    }
  },
  "cells": [
    {
      "cell_type": "markdown",
      "source": [
        "# Data"
      ],
      "metadata": {
        "id": "E4ea9eY6nT-q"
      }
    },
    {
      "cell_type": "code",
      "execution_count": null,
      "metadata": {
        "colab": {
          "base_uri": "https://localhost:8080/"
        },
        "id": "ud6lfqb-m-rr",
        "outputId": "abe23056-a9a5-4533-f7e4-258171b2f0ec"
      },
      "outputs": [
        {
          "output_type": "stream",
          "name": "stdout",
          "text": [
            "Mounted at /content/drive\n"
          ]
        }
      ],
      "source": [
        "from google.colab import drive\n",
        "drive.mount('/content/drive')"
      ]
    },
    {
      "cell_type": "code",
      "source": [
        "import numpy as np\n",
        "import pandas as pd"
      ],
      "metadata": {
        "id": "nMsO2X9Dr6W4"
      },
      "execution_count": null,
      "outputs": []
    },
    {
      "cell_type": "code",
      "source": [
        "# trials_all1 = []\n",
        "# classes_all1 = []\n",
        "# trials_all2 = []\n",
        "# classes_all2 = []\n",
        "# trials_all3 = []\n",
        "# classes_all3 = []\n",
        "# trials_all4 = []\n",
        "# classes_all4 = []\n",
        "# trials_all5 = []\n",
        "# classes_all5 = []"
      ],
      "metadata": {
        "id": "xLf_SyJUqUHW"
      },
      "execution_count": null,
      "outputs": []
    },
    {
      "cell_type": "markdown",
      "source": [
        "# Loop Over Objects (A01T-A09T)"
      ],
      "metadata": {
        "id": "tQF0tn9yqcFr"
      }
    },
    {
      "cell_type": "code",
      "source": [
        "# path = '/content/drive/My Drive/Colab Notebooks/Nikta/EEG/Data/A09T.npz'"
      ],
      "metadata": {
        "id": "-nuMsYzqnXvK"
      },
      "execution_count": null,
      "outputs": []
    },
    {
      "cell_type": "code",
      "source": [
        "# import numpy as np\n",
        "# import pandas as pd\n",
        "# from matplotlib import pyplot as plt\n",
        "\n",
        "\n",
        "# class MotorImageryDataset:\n",
        "#     def __init__(self, dataset=path):\n",
        "#         if not dataset.endswith('.npz'):\n",
        "#             dataset += '.npz'\n",
        "\n",
        "#         self.data = np.load(dataset)\n",
        "\n",
        "#         self.Fs = 250  # 250Hz from original paper\n",
        "\n",
        "#         # keys of data ['s', 'etyp', 'epos', 'edur', 'artifacts']\n",
        "\n",
        "#         self.raw = self.data['s'].T\n",
        "#         self.events_type = self.data['etyp'].T\n",
        "#         self.events_position = self.data['epos'].T\n",
        "#         self.events_duration = self.data['edur'].T\n",
        "#         self.artifacts = self.data['artifacts'].T\n",
        "\n",
        "#         # Types of motor imagery\n",
        "#         self.mi_types = {769: 'left', 770: 'right',\n",
        "#                          771: 'foot', 772: 'tongue', 783: 'unknown'}\n",
        "\n",
        "#     def get_trials_from_channel(self, channel=7):\n",
        "\n",
        "#         # Channel default is C3\n",
        "\n",
        "#         startrial_code = 768\n",
        "#         starttrial_events = self.events_type == startrial_code\n",
        "#         idxs = [i for i, x in enumerate(starttrial_events[0]) if x]\n",
        "\n",
        "#         trials = []\n",
        "#         classes = []\n",
        "\n",
        "#         for index in idxs:\n",
        "#             try:\n",
        "#                 type_e = self.events_type[0, index+1]\n",
        "#                 class_e = self.mi_types[type_e]\n",
        "#                 classes.append(class_e)\n",
        "\n",
        "#                 start = self.events_position[0, index]\n",
        "#                 stop = start + self.events_duration[0, index]\n",
        "#                 trial = self.raw[channel, start:stop]\n",
        "#                 trial = trial.reshape((1, -1))\n",
        "#                 trials.append(trial)\n",
        "\n",
        "#             except:\n",
        "#                 continue\n",
        "\n",
        "#         return trials, classes\n",
        "\n",
        "#     def get_trials_from_channels(self, channels=[7, 9, 11]):\n",
        "#         trials_c = []\n",
        "#         classes_c = []\n",
        "#         for c in channels:\n",
        "#             t, c = self.get_trials_from_channel(channel=c)\n",
        "\n",
        "#             tt = np.concatenate(t, axis=0)\n",
        "#             trials_c.append(tt)\n",
        "#             classes_c.append(c)\n",
        "\n",
        "#         return trials_c, classes_c"
      ],
      "metadata": {
        "id": "VhbkNGAUqMIv"
      },
      "execution_count": null,
      "outputs": []
    },
    {
      "cell_type": "code",
      "source": [
        "# datasetA1 = MotorImageryDataset(path)\n",
        "# trials, classes = datasetA1.get_trials_from_channels([7, 9, 11])"
      ],
      "metadata": {
        "id": "ffctYQtHqXnq"
      },
      "execution_count": null,
      "outputs": []
    },
    {
      "cell_type": "code",
      "source": [
        "# for trial in trials[0]:\n",
        "#   trials_all1.append(trial)\n",
        "# for clas in classes[0]:\n",
        "#   classes_all1.append(clas)\n",
        "\n",
        "# for trial in trials[1]:\n",
        "#   trials_all2.append(trial)\n",
        "# for clas in classes[1]:\n",
        "#   classes_all2.append(clas)\n",
        "\n",
        "# for trial in trials[2]:\n",
        "#   trials_all3.append(trial)\n",
        "# for clas in classes[2]:\n",
        "#   classes_all3.append(clas)\n"
      ],
      "metadata": {
        "id": "GsqPAt0_qa-T"
      },
      "execution_count": null,
      "outputs": []
    },
    {
      "cell_type": "code",
      "source": [
        "# np.array(trials_all1).shape"
      ],
      "metadata": {
        "id": "uYnrs7JIqsPz"
      },
      "execution_count": null,
      "outputs": []
    },
    {
      "cell_type": "markdown",
      "source": [
        "# Save Data"
      ],
      "metadata": {
        "id": "y0b3dm4Irz4Q"
      }
    },
    {
      "cell_type": "code",
      "source": [
        "# trials_all1_df = pd.DataFrame(trials_all1)\n",
        "# trials_all2_df = pd.DataFrame(trials_all2)\n",
        "# trials_all3_df = pd.DataFrame(trials_all3)\n",
        "\n",
        "\n",
        "# classes_all1_df = pd.DataFrame(classes_all1)\n",
        "# classes_all2_df = pd.DataFrame(classes_all2)\n",
        "# classes_all3_df = pd.DataFrame(classes_all3)"
      ],
      "metadata": {
        "id": "2-oVTNFxrbTz"
      },
      "execution_count": null,
      "outputs": []
    },
    {
      "cell_type": "code",
      "source": [
        "# trials_all1_df.to_csv('/content/drive/My Drive/Colab Notebooks/Nikta/EEG/Data/trials_all1_df.csv', encoding='utf-8')\n",
        "# trials_all2_df.to_csv('/content/drive/My Drive/Colab Notebooks/Nikta/EEG/Data/trials_all2_df.csv', encoding='utf-8')\n",
        "# trials_all3_df.to_csv('/content/drive/My Drive/Colab Notebooks/Nikta/EEG/Data/trials_all3_df.csv', encoding='utf-8')\n",
        "\n",
        "\n",
        "# classes_all1_df.to_csv('/content/drive/My Drive/Colab Notebooks/Nikta/EEG/Data/classes_all1_df.csv', encoding='utf-8')\n",
        "# classes_all2_df.to_csv('/content/drive/My Drive/Colab Notebooks/Nikta/EEG/Data/classes_all2_df.csv', encoding='utf-8')\n",
        "# classes_all3_df.to_csv('/content/drive/My Drive/Colab Notebooks/Nikta/EEG/Data/classes_all3_df.csv', encoding='utf-8')"
      ],
      "metadata": {
        "id": "dQAkS3Dhr_yb"
      },
      "execution_count": null,
      "outputs": []
    },
    {
      "cell_type": "markdown",
      "source": [
        "# Load Data"
      ],
      "metadata": {
        "id": "SCZZjWlvsNlp"
      }
    },
    {
      "cell_type": "code",
      "source": [
        "# trials1_pd = pd.read_csv('/content/drive/My Drive/Colab Notebooks/Nikta/EEG/Data/trials_all1_df.csv')\n",
        "# trials1_pd.drop([\"Unnamed: 0\"], axis=1,inplace=True)\n",
        "\n",
        "# classes1_df = pd.read_csv('/content/drive/My Drive/Colab Notebooks/Nikta/EEG/Data/classes_all1_df.csv')\n",
        "# classes1_df.drop([\"Unnamed: 0\"], axis=1,inplace=True)"
      ],
      "metadata": {
        "id": "3ci5pHeBsHSz"
      },
      "execution_count": null,
      "outputs": []
    },
    {
      "cell_type": "code",
      "source": [
        "# trials2_pd = pd.read_csv('/content/drive/My Drive/Colab Notebooks/Nikta/EEG/Data/trials_all2_df.csv')\n",
        "# trials2_pd.drop([\"Unnamed: 0\"], axis=1,inplace=True)\n",
        "\n",
        "# classes2_df = pd.read_csv('/content/drive/My Drive/Colab Notebooks/Nikta/EEG/Data/classes_all2_df.csv')\n",
        "# classes2_df.drop([\"Unnamed: 0\"], axis=1,inplace=True)"
      ],
      "metadata": {
        "id": "ltLIxXo1sRpc"
      },
      "execution_count": null,
      "outputs": []
    },
    {
      "cell_type": "code",
      "source": [
        "# trials3_pd = pd.read_csv('/content/drive/My Drive/Colab Notebooks/Nikta/EEG/Data/trials_all3_df.csv')\n",
        "# trials3_pd.drop([\"Unnamed: 0\"], axis=1,inplace=True)\n",
        "\n",
        "# classes3_df = pd.read_csv('/content/drive/My Drive/Colab Notebooks/Nikta/EEG/Data/classes_all3_df.csv')\n",
        "# classes3_df.drop([\"Unnamed: 0\"], axis=1,inplace=True)"
      ],
      "metadata": {
        "id": "qOOApFFmsSt7"
      },
      "execution_count": null,
      "outputs": []
    },
    {
      "cell_type": "code",
      "source": [
        "# # Merging \n",
        "# trials = pd.concat([trials1_pd, trials2_pd, trials3_pd], axis=0)\n",
        "# classes = pd.concat([classes1_df, classes2_df, classes3_df], axis=0)"
      ],
      "metadata": {
        "id": "7ySJYI67sTzF"
      },
      "execution_count": null,
      "outputs": []
    },
    {
      "cell_type": "code",
      "source": [
        "# trials.shape"
      ],
      "metadata": {
        "colab": {
          "base_uri": "https://localhost:8080/"
        },
        "id": "Ru-fS2wDsar0",
        "outputId": "bd2e23a0-777f-43d7-9a59-e29fe2f886e0"
      },
      "execution_count": null,
      "outputs": [
        {
          "output_type": "execute_result",
          "data": {
            "text/plain": [
              "(6984, 1875)"
            ]
          },
          "metadata": {},
          "execution_count": 15
        }
      ]
    },
    {
      "cell_type": "code",
      "source": [
        "# classes"
      ],
      "metadata": {
        "colab": {
          "base_uri": "https://localhost:8080/",
          "height": 424
        },
        "id": "Cz86nsvmsghT",
        "outputId": "7c4e7a50-41cc-43ed-c709-a34ebf4357cf"
      },
      "execution_count": null,
      "outputs": [
        {
          "output_type": "execute_result",
          "data": {
            "text/plain": [
              "           0\n",
              "0     tongue\n",
              "1       foot\n",
              "2      right\n",
              "3       left\n",
              "4       left\n",
              "...      ...\n",
              "2323  tongue\n",
              "2324  tongue\n",
              "2325    left\n",
              "2326   right\n",
              "2327    foot\n",
              "\n",
              "[6984 rows x 1 columns]"
            ],
            "text/html": [
              "\n",
              "  <div id=\"df-2d401d75-9b94-463a-b73e-a00fc5c76ea9\">\n",
              "    <div class=\"colab-df-container\">\n",
              "      <div>\n",
              "<style scoped>\n",
              "    .dataframe tbody tr th:only-of-type {\n",
              "        vertical-align: middle;\n",
              "    }\n",
              "\n",
              "    .dataframe tbody tr th {\n",
              "        vertical-align: top;\n",
              "    }\n",
              "\n",
              "    .dataframe thead th {\n",
              "        text-align: right;\n",
              "    }\n",
              "</style>\n",
              "<table border=\"1\" class=\"dataframe\">\n",
              "  <thead>\n",
              "    <tr style=\"text-align: right;\">\n",
              "      <th></th>\n",
              "      <th>0</th>\n",
              "    </tr>\n",
              "  </thead>\n",
              "  <tbody>\n",
              "    <tr>\n",
              "      <th>0</th>\n",
              "      <td>tongue</td>\n",
              "    </tr>\n",
              "    <tr>\n",
              "      <th>1</th>\n",
              "      <td>foot</td>\n",
              "    </tr>\n",
              "    <tr>\n",
              "      <th>2</th>\n",
              "      <td>right</td>\n",
              "    </tr>\n",
              "    <tr>\n",
              "      <th>3</th>\n",
              "      <td>left</td>\n",
              "    </tr>\n",
              "    <tr>\n",
              "      <th>4</th>\n",
              "      <td>left</td>\n",
              "    </tr>\n",
              "    <tr>\n",
              "      <th>...</th>\n",
              "      <td>...</td>\n",
              "    </tr>\n",
              "    <tr>\n",
              "      <th>2323</th>\n",
              "      <td>tongue</td>\n",
              "    </tr>\n",
              "    <tr>\n",
              "      <th>2324</th>\n",
              "      <td>tongue</td>\n",
              "    </tr>\n",
              "    <tr>\n",
              "      <th>2325</th>\n",
              "      <td>left</td>\n",
              "    </tr>\n",
              "    <tr>\n",
              "      <th>2326</th>\n",
              "      <td>right</td>\n",
              "    </tr>\n",
              "    <tr>\n",
              "      <th>2327</th>\n",
              "      <td>foot</td>\n",
              "    </tr>\n",
              "  </tbody>\n",
              "</table>\n",
              "<p>6984 rows × 1 columns</p>\n",
              "</div>\n",
              "      <button class=\"colab-df-convert\" onclick=\"convertToInteractive('df-2d401d75-9b94-463a-b73e-a00fc5c76ea9')\"\n",
              "              title=\"Convert this dataframe to an interactive table.\"\n",
              "              style=\"display:none;\">\n",
              "        \n",
              "  <svg xmlns=\"http://www.w3.org/2000/svg\" height=\"24px\"viewBox=\"0 0 24 24\"\n",
              "       width=\"24px\">\n",
              "    <path d=\"M0 0h24v24H0V0z\" fill=\"none\"/>\n",
              "    <path d=\"M18.56 5.44l.94 2.06.94-2.06 2.06-.94-2.06-.94-.94-2.06-.94 2.06-2.06.94zm-11 1L8.5 8.5l.94-2.06 2.06-.94-2.06-.94L8.5 2.5l-.94 2.06-2.06.94zm10 10l.94 2.06.94-2.06 2.06-.94-2.06-.94-.94-2.06-.94 2.06-2.06.94z\"/><path d=\"M17.41 7.96l-1.37-1.37c-.4-.4-.92-.59-1.43-.59-.52 0-1.04.2-1.43.59L10.3 9.45l-7.72 7.72c-.78.78-.78 2.05 0 2.83L4 21.41c.39.39.9.59 1.41.59.51 0 1.02-.2 1.41-.59l7.78-7.78 2.81-2.81c.8-.78.8-2.07 0-2.86zM5.41 20L4 18.59l7.72-7.72 1.47 1.35L5.41 20z\"/>\n",
              "  </svg>\n",
              "      </button>\n",
              "      \n",
              "  <style>\n",
              "    .colab-df-container {\n",
              "      display:flex;\n",
              "      flex-wrap:wrap;\n",
              "      gap: 12px;\n",
              "    }\n",
              "\n",
              "    .colab-df-convert {\n",
              "      background-color: #E8F0FE;\n",
              "      border: none;\n",
              "      border-radius: 50%;\n",
              "      cursor: pointer;\n",
              "      display: none;\n",
              "      fill: #1967D2;\n",
              "      height: 32px;\n",
              "      padding: 0 0 0 0;\n",
              "      width: 32px;\n",
              "    }\n",
              "\n",
              "    .colab-df-convert:hover {\n",
              "      background-color: #E2EBFA;\n",
              "      box-shadow: 0px 1px 2px rgba(60, 64, 67, 0.3), 0px 1px 3px 1px rgba(60, 64, 67, 0.15);\n",
              "      fill: #174EA6;\n",
              "    }\n",
              "\n",
              "    [theme=dark] .colab-df-convert {\n",
              "      background-color: #3B4455;\n",
              "      fill: #D2E3FC;\n",
              "    }\n",
              "\n",
              "    [theme=dark] .colab-df-convert:hover {\n",
              "      background-color: #434B5C;\n",
              "      box-shadow: 0px 1px 3px 1px rgba(0, 0, 0, 0.15);\n",
              "      filter: drop-shadow(0px 1px 2px rgba(0, 0, 0, 0.3));\n",
              "      fill: #FFFFFF;\n",
              "    }\n",
              "  </style>\n",
              "\n",
              "      <script>\n",
              "        const buttonEl =\n",
              "          document.querySelector('#df-2d401d75-9b94-463a-b73e-a00fc5c76ea9 button.colab-df-convert');\n",
              "        buttonEl.style.display =\n",
              "          google.colab.kernel.accessAllowed ? 'block' : 'none';\n",
              "\n",
              "        async function convertToInteractive(key) {\n",
              "          const element = document.querySelector('#df-2d401d75-9b94-463a-b73e-a00fc5c76ea9');\n",
              "          const dataTable =\n",
              "            await google.colab.kernel.invokeFunction('convertToInteractive',\n",
              "                                                     [key], {});\n",
              "          if (!dataTable) return;\n",
              "\n",
              "          const docLinkHtml = 'Like what you see? Visit the ' +\n",
              "            '<a target=\"_blank\" href=https://colab.research.google.com/notebooks/data_table.ipynb>data table notebook</a>'\n",
              "            + ' to learn more about interactive tables.';\n",
              "          element.innerHTML = '';\n",
              "          dataTable['output_type'] = 'display_data';\n",
              "          await google.colab.output.renderOutput(dataTable, element);\n",
              "          const docLink = document.createElement('div');\n",
              "          docLink.innerHTML = docLinkHtml;\n",
              "          element.appendChild(docLink);\n",
              "        }\n",
              "      </script>\n",
              "    </div>\n",
              "  </div>\n",
              "  "
            ]
          },
          "metadata": {},
          "execution_count": 16
        }
      ]
    },
    {
      "cell_type": "markdown",
      "source": [
        "# Preprocessing"
      ],
      "metadata": {
        "id": "VfBIZHvxs8eH"
      }
    },
    {
      "cell_type": "code",
      "source": [
        "# # Check for Duplication\n",
        "# print(trials.duplicated().value_counts())"
      ],
      "metadata": {
        "colab": {
          "base_uri": "https://localhost:8080/"
        },
        "id": "nLu1uv7Us-rK",
        "outputId": "6e953cc0-6ead-4791-d0a0-696c97b6a4d1"
      },
      "execution_count": null,
      "outputs": [
        {
          "output_type": "stream",
          "name": "stdout",
          "text": [
            "False    6984\n",
            "dtype: int64\n"
          ]
        }
      ]
    },
    {
      "cell_type": "code",
      "source": [
        "# # Balance Check\n",
        "# classes.value_counts()"
      ],
      "metadata": {
        "colab": {
          "base_uri": "https://localhost:8080/"
        },
        "id": "Li63x-dQtDrg",
        "outputId": "5ee461ff-36c6-404c-b516-2270a0ea1ffd"
      },
      "execution_count": null,
      "outputs": [
        {
          "output_type": "execute_result",
          "data": {
            "text/plain": [
              "0     \n",
              "right     1773\n",
              "tongue    1773\n",
              "foot      1722\n",
              "left      1716\n",
              "dtype: int64"
            ]
          },
          "metadata": {},
          "execution_count": 18
        }
      ]
    },
    {
      "cell_type": "markdown",
      "source": [
        "# Label Mapping and Split"
      ],
      "metadata": {
        "id": "kRI7OjxvsmNQ"
      }
    },
    {
      "cell_type": "code",
      "source": [
        "# from sklearn.model_selection import train_test_split\n",
        "# from sklearn.metrics import multilabel_confusion_matrix"
      ],
      "metadata": {
        "id": "dDPcLlZPshrD"
      },
      "execution_count": null,
      "outputs": []
    },
    {
      "cell_type": "code",
      "source": [
        "# label_mapping = {'left': 0,'right': 1,'foot': 2, 'tongue': 3}"
      ],
      "metadata": {
        "id": "trNY5Ic0sqnr"
      },
      "execution_count": null,
      "outputs": []
    },
    {
      "cell_type": "code",
      "source": [
        "# y = classes\n",
        "# y = y.replace(label_mapping)"
      ],
      "metadata": {
        "id": "TUaBPChTstaz"
      },
      "execution_count": null,
      "outputs": []
    },
    {
      "cell_type": "code",
      "source": [
        "# x = trials"
      ],
      "metadata": {
        "id": "cVCbuh59svpz"
      },
      "execution_count": null,
      "outputs": []
    },
    {
      "cell_type": "code",
      "source": [
        "# x_numpy = np.array(x)\n",
        "# y_numpy = np.array(y)"
      ],
      "metadata": {
        "id": "-ZmFqlBeswxD"
      },
      "execution_count": null,
      "outputs": []
    },
    {
      "cell_type": "code",
      "source": [
        "# x_numpy.shape"
      ],
      "metadata": {
        "colab": {
          "base_uri": "https://localhost:8080/"
        },
        "id": "YkMyY20Lsx7L",
        "outputId": "5502897b-c317-4381-a9ab-2b15bbdb298c"
      },
      "execution_count": null,
      "outputs": [
        {
          "output_type": "execute_result",
          "data": {
            "text/plain": [
              "(6984, 1875)"
            ]
          },
          "metadata": {},
          "execution_count": 24
        }
      ]
    },
    {
      "cell_type": "code",
      "source": [
        "# xtrain, xtest, ytrain, ytest = train_test_split(x_numpy,y_numpy,train_size = 0.8)"
      ],
      "metadata": {
        "id": "j-C09w7ItdGW"
      },
      "execution_count": null,
      "outputs": []
    },
    {
      "cell_type": "markdown",
      "source": [
        "# Save"
      ],
      "metadata": {
        "id": "n6ErL4I3Vo1h"
      }
    },
    {
      "cell_type": "code",
      "source": [
        "# train = []\n",
        "# for item in xtrain:\n",
        "#   train.append(item[0])\n",
        "\n",
        "# test = []\n",
        "# for item in xtest:\n",
        "#   test.append(item[0])"
      ],
      "metadata": {
        "id": "-Q3bWj0oWhU1"
      },
      "execution_count": null,
      "outputs": []
    },
    {
      "cell_type": "code",
      "source": [
        "# xtrain_pd = pd.DataFrame(train)\n",
        "# xtest_pd = pd.DataFrame(test)\n",
        "# ytrain_pd = pd.DataFrame(ytrain)\n",
        "# ytest_pd = pd.DataFrame(ytest)"
      ],
      "metadata": {
        "id": "ROBkM2sUV_gB"
      },
      "execution_count": null,
      "outputs": []
    },
    {
      "cell_type": "code",
      "source": [
        "# xtrain_pd.to_csv('/content/drive/My Drive/Colab Notebooks/Nikta/EEG/Data/xtrain.csv', encoding='utf-8')\n",
        "# xtest_pd.to_csv('/content/drive/My Drive/Colab Notebooks/Nikta/EEG/Data/xtest.csv', encoding='utf-8')\n",
        "# ytrain_pd.to_csv('/content/drive/My Drive/Colab Notebooks/Nikta/EEG/Data/ytrain.csv', encoding='utf-8')\n",
        "# ytest_pd.to_csv('/content/drive/My Drive/Colab Notebooks/Nikta/EEG/Data/ytest.csv', encoding='utf-8')"
      ],
      "metadata": {
        "id": "IFpZTDToVjOX"
      },
      "execution_count": null,
      "outputs": []
    },
    {
      "cell_type": "markdown",
      "source": [
        "# Load"
      ],
      "metadata": {
        "id": "T5Vgffo7V5aW"
      }
    },
    {
      "cell_type": "code",
      "source": [
        "xtrain_pd = pd.read_csv('/content/drive/My Drive/Colab Notebooks/Nikta/EEG/Data/xtrain.csv')\n",
        "xtrain_pd.drop([\"Unnamed: 0\"], axis=1,inplace=True)\n",
        "xtrain = np.array(xtrain_pd)\n",
        "\n",
        "xtest_pd = pd.read_csv('/content/drive/My Drive/Colab Notebooks/Nikta/EEG/Data/xtest.csv')\n",
        "xtest_pd.drop([\"Unnamed: 0\"], axis=1,inplace=True)\n",
        "xtest = np.array(xtest_pd)\n",
        "\n",
        "ytrain_pd = pd.read_csv('/content/drive/My Drive/Colab Notebooks/Nikta/EEG/Data/ytrain.csv')\n",
        "ytrain_pd.drop([\"Unnamed: 0\"], axis=1,inplace=True)\n",
        "ytrain = np.array(ytrain_pd)\n",
        "\n",
        "ytest_pd = pd.read_csv('/content/drive/My Drive/Colab Notebooks/Nikta/EEG/Data/ytest.csv')\n",
        "ytest_pd.drop([\"Unnamed: 0\"], axis=1,inplace=True)\n",
        "ytest = np.array(ytest_pd)"
      ],
      "metadata": {
        "id": "RCEQF5N0V7Nq"
      },
      "execution_count": null,
      "outputs": []
    },
    {
      "cell_type": "markdown",
      "source": [
        "# Feature Extraction with LSTM"
      ],
      "metadata": {
        "id": "JP106Pn_tr92"
      }
    },
    {
      "cell_type": "code",
      "source": [
        "extended_train = []\n",
        "for trial in xtrain:\n",
        "  extended_train.append([trial])\n",
        "xtrain = np.array(extended_train)\n",
        "xtrain.shape"
      ],
      "metadata": {
        "colab": {
          "base_uri": "https://localhost:8080/"
        },
        "id": "8tn0dhMEuMgp",
        "outputId": "abaabb18-355a-4f6c-bc5b-901f13063bf2"
      },
      "execution_count": null,
      "outputs": [
        {
          "output_type": "execute_result",
          "data": {
            "text/plain": [
              "(5587, 1, 1875)"
            ]
          },
          "metadata": {},
          "execution_count": 118
        }
      ]
    },
    {
      "cell_type": "code",
      "source": [
        "extended_test = []\n",
        "for trial in xtest:\n",
        "  extended_test.append([trial])\n",
        "xtest = np.array(extended_test)\n",
        "xtest.shape"
      ],
      "metadata": {
        "colab": {
          "base_uri": "https://localhost:8080/"
        },
        "id": "h841GESWuO94",
        "outputId": "869e8296-4979-48a6-a8f0-dd8a389a30f4"
      },
      "execution_count": null,
      "outputs": [
        {
          "output_type": "execute_result",
          "data": {
            "text/plain": [
              "(1397, 1, 1875)"
            ]
          },
          "metadata": {},
          "execution_count": 119
        }
      ]
    },
    {
      "cell_type": "code",
      "source": [
        "ex_data = np.concatenate((extended_train, extended_test), axis=0)"
      ],
      "metadata": {
        "id": "jm-x-uRguBnY"
      },
      "execution_count": null,
      "outputs": []
    },
    {
      "cell_type": "code",
      "source": [
        "timesteps = 1\n",
        "n_features = 1875"
      ],
      "metadata": {
        "id": "M3URj3wCtq2b"
      },
      "execution_count": null,
      "outputs": []
    },
    {
      "cell_type": "code",
      "source": [
        "import numpy as np\n",
        "import tensorflow as tf\n",
        "from tensorflow.keras.models import Model, Sequential\n",
        "from tensorflow.keras.layers import Dense\n",
        "import pandas as pd\n",
        "import random\n",
        "from sklearn.preprocessing import StandardScaler\n",
        "from keras.models import Sequential\n",
        "from keras.layers import LSTM\n",
        "from keras.layers import Dense\n",
        "from keras.layers import RepeatVector\n",
        "from keras.layers import TimeDistributed"
      ],
      "metadata": {
        "id": "f3u-HQ-et8Ip"
      },
      "execution_count": null,
      "outputs": []
    },
    {
      "cell_type": "code",
      "source": [
        "# This is the dimension of the original space\n",
        "input_dim = 1875\n",
        "\n",
        "\n",
        "encoder = Sequential([\n",
        "    LSTM(1024, activation='selu', input_shape=(timesteps,n_features), return_sequences=False),\n",
        "#    LSTM(1024, activation='selu', return_sequences=False),\n",
        "#    Dense(128, activation='relu'),\n",
        "    RepeatVector(timesteps)\n",
        "])\n",
        "\n",
        "decoder = Sequential([\n",
        "    LSTM(1024, activation='selu', input_shape=(1,1024),return_sequences=True),\n",
        "#    LSTM(1024, activation='relu', return_sequences=True),\n",
        "    TimeDistributed(Dense(n_features))\n",
        "])"
      ],
      "metadata": {
        "id": "N_QuxsYbt8LJ"
      },
      "execution_count": null,
      "outputs": []
    },
    {
      "cell_type": "code",
      "source": [
        "autoencoder = Model(inputs=encoder.input, outputs=decoder(encoder.output))\n",
        "autoencoder.compile(loss='mean_absolute_error', optimizer='adam')"
      ],
      "metadata": {
        "id": "WLG3RvzNt_Uv"
      },
      "execution_count": null,
      "outputs": []
    },
    {
      "cell_type": "code",
      "source": [
        "model_history = autoencoder.fit(ex_data, ex_data, epochs=100, batch_size=128, verbose=0)"
      ],
      "metadata": {
        "id": "3pxwCjMuuYms"
      },
      "execution_count": null,
      "outputs": []
    },
    {
      "cell_type": "code",
      "source": [
        "import matplotlib.pyplot as plt\n",
        "\n",
        "plt.plot(model_history.history[\"loss\"])\n",
        "plt.title(\"Loss vs. Epoch\")\n",
        "plt.ylabel(\"Loss\")\n",
        "plt.xlabel(\"Epoch\") "
      ],
      "metadata": {
        "colab": {
          "base_uri": "https://localhost:8080/",
          "height": 312
        },
        "id": "eztVkmb0uao0",
        "outputId": "2cb5b408-1bd0-4a16-d86e-94b824cf8b0b"
      },
      "execution_count": null,
      "outputs": [
        {
          "output_type": "execute_result",
          "data": {
            "text/plain": [
              "Text(0.5, 0, 'Epoch')"
            ]
          },
          "metadata": {},
          "execution_count": 126
        },
        {
          "output_type": "display_data",
          "data": {
            "text/plain": [
              "<Figure size 432x288 with 1 Axes>"
            ],
            "image/png": "[encoded data removed]"
          },
          "metadata": {
            "needs_background": "light"
          }
        }
      ]
    },
    {
      "cell_type": "code",
      "source": [
        "encoded_x_train = encoder(xtrain)\n",
        "encoded_x_train.shape"
      ],
      "metadata": {
        "id": "X5fm00QRugeb",
        "colab": {
          "base_uri": "https://localhost:8080/"
        },
        "outputId": "f71db5c4-57b1-4b3f-bccd-99651ff6d20e"
      },
      "execution_count": null,
      "outputs": [
        {
          "output_type": "execute_result",
          "data": {
            "text/plain": [
              "TensorShape([5587, 1, 1024])"
            ]
          },
          "metadata": {},
          "execution_count": 127
        }
      ]
    },
    {
      "cell_type": "code",
      "source": [
        "encoded_x_test = encoder(xtest)    "
      ],
      "metadata": {
        "id": "1tWpK9kJugi6"
      },
      "execution_count": null,
      "outputs": []
    },
    {
      "cell_type": "markdown",
      "source": [
        "# Hyperparameter tuning with Grid Search"
      ],
      "metadata": {
        "id": "m6bVZ--XudOR"
      }
    },
    {
      "cell_type": "code",
      "source": [
        "en_train_list = []\n",
        "for item in encoded_x_train:\n",
        "  en_train_list.append(item[0])\n",
        "en_train = np.array(en_train_list)"
      ],
      "metadata": {
        "id": "E2Ys4IDxvKOO"
      },
      "execution_count": null,
      "outputs": []
    },
    {
      "cell_type": "code",
      "source": [
        "en_test_list = []\n",
        "for item in encoded_x_test:\n",
        "  en_test_list.append(item[0])\n",
        "en_test = np.array(en_test_list)"
      ],
      "metadata": {
        "id": "3b2A1YwGvKTN"
      },
      "execution_count": null,
      "outputs": []
    },
    {
      "cell_type": "code",
      "source": [
        "y_n = np.array(ytest)\n",
        "ytl = []\n",
        "for l in y_n:\n",
        "  ytl.append(l[0])\n",
        "y_num_test = np.array(ytl)\n",
        "y_num_test"
      ],
      "metadata": {
        "id": "j6O77sNevYoG",
        "colab": {
          "base_uri": "https://localhost:8080/"
        },
        "outputId": "cb8e735c-33a8-4b52-fcd6-9a3edbca2a7b"
      },
      "execution_count": null,
      "outputs": [
        {
          "output_type": "execute_result",
          "data": {
            "text/plain": [
              "array([0, 2, 1, ..., 2, 0, 3])"
            ]
          },
          "metadata": {},
          "execution_count": 131
        }
      ]
    },
    {
      "cell_type": "code",
      "source": [
        "y_n"
      ],
      "metadata": {
        "id": "vmY1w3VQwYSj",
        "colab": {
          "base_uri": "https://localhost:8080/"
        },
        "outputId": "17bd4904-4727-45e4-fd94-6a8f586d8f41"
      },
      "execution_count": null,
      "outputs": [
        {
          "output_type": "execute_result",
          "data": {
            "text/plain": [
              "array([[0],\n",
              "       [2],\n",
              "       [1],\n",
              "       ...,\n",
              "       [2],\n",
              "       [0],\n",
              "       [3]])"
            ]
          },
          "metadata": {},
          "execution_count": 132
        }
      ]
    },
    {
      "cell_type": "code",
      "source": [
        "from scipy.stats import uniform, randint\n",
        "\n",
        "from sklearn.datasets import load_breast_cancer, load_diabetes, load_wine\n",
        "from sklearn.metrics import auc, accuracy_score, confusion_matrix, mean_squared_error\n",
        "from sklearn.model_selection import cross_val_score, GridSearchCV, KFold, RandomizedSearchCV, train_test_split"
      ],
      "metadata": {
        "id": "T7_4cZsGvjY6"
      },
      "execution_count": null,
      "outputs": []
    },
    {
      "cell_type": "code",
      "source": [
        "import warnings\n",
        "warnings.filterwarnings('ignore')\n",
        "import numpy as np\n",
        "import pandas as pd\n",
        "from datetime import datetime\n",
        "from sklearn.model_selection import RandomizedSearchCV, GridSearchCV\n",
        "from sklearn.metrics import roc_auc_score\n",
        "from sklearn.model_selection import StratifiedKFold\n",
        "from xgboost import XGBClassifier"
      ],
      "metadata": {
        "id": "pwy5mqZWucr8"
      },
      "execution_count": null,
      "outputs": []
    },
    {
      "cell_type": "code",
      "source": [
        "# A parameter grid for XGBoost\n",
        "params = {\n",
        "        'min_child_weight': [1, 5, 10],\n",
        "        'gamma': [0.5, 1, 1.5, 2, 5],\n",
        "        'subsample': [0.6, 0.8, 1.0],\n",
        "        'colsample_bytree': [0.6, 0.8, 1.0],\n",
        "        'max_depth': [3, 4, 5]\n",
        "        }"
      ],
      "metadata": {
        "id": "D7bdlZtsuvK9"
      },
      "execution_count": null,
      "outputs": []
    },
    {
      "cell_type": "code",
      "source": [
        "# xgb = XGBClassifier(n_estimators=600, objective='multi:softprob',\n",
        "#                     silent=True, nthread=1)"
      ],
      "metadata": {
        "id": "Qecb-W7Ru6mW"
      },
      "execution_count": null,
      "outputs": []
    },
    {
      "cell_type": "code",
      "source": [
        "# folds = 3\n",
        "# param_comb = 5\n",
        "\n",
        "# skf = StratifiedKFold(n_splits=folds, shuffle = True, random_state = 42)\n",
        "\n",
        "# random_search = RandomizedSearchCV(xgb, param_distributions=params, n_iter=param_comb, scoring='roc_auc', n_jobs=4, cv=skf.split(en_train, ytrain), verbose=3, random_state=42 )\n",
        "\n",
        "# random_search.fit(en_train, ytrain)"
      ],
      "metadata": {
        "id": "IhBLWe8OvB8a"
      },
      "execution_count": null,
      "outputs": []
    },
    {
      "cell_type": "code",
      "source": [
        "# print('\\n Best estimator:')\n",
        "# print(random_search.best_estimator_) "
      ],
      "metadata": {
        "id": "1b64-GcmvB-5"
      },
      "execution_count": null,
      "outputs": []
    },
    {
      "cell_type": "markdown",
      "source": [
        "# XGboost"
      ],
      "metadata": {
        "id": "wyV8_4Iiv0K7"
      }
    },
    {
      "cell_type": "code",
      "source": [
        "xgb_model = XGBClassifier(colsample_bytree=0.6, gamma=1.5, max_depth=4, min_child_weight=10,\n",
        "              n_estimators=600, nthread=1, objective='multi:softprob',\n",
        "              silent=True, subsample=0.8)\n",
        "xgb_model.fit(en_train, ytrain)\n",
        "\n",
        "y_pred = xgb_model.predict(en_test)"
      ],
      "metadata": {
        "id": "k32kB1HLuvNe"
      },
      "execution_count": null,
      "outputs": []
    },
    {
      "cell_type": "code",
      "source": [
        "print(accuracy_score(y_num_test, y_pred))"
      ],
      "metadata": {
        "id": "Lu459ImLuzZV",
        "colab": {
          "base_uri": "https://localhost:8080/"
        },
        "outputId": "b0cb40c3-760c-4780-9394-00136ad147d4"
      },
      "execution_count": null,
      "outputs": [
        {
          "output_type": "stream",
          "name": "stdout",
          "text": [
            "0.8117394416607016\n"
          ]
        }
      ]
    },
    {
      "cell_type": "code",
      "source": [
        "y_num_test"
      ],
      "metadata": {
        "colab": {
          "base_uri": "https://localhost:8080/"
        },
        "id": "gOIJWASL1bed",
        "outputId": "4dfbf964-fcf2-4d40-9b17-6af70dd1f567"
      },
      "execution_count": null,
      "outputs": [
        {
          "output_type": "execute_result",
          "data": {
            "text/plain": [
              "array([0, 2, 1, ..., 2, 0, 3])"
            ]
          },
          "metadata": {},
          "execution_count": 141
        }
      ]
    },
    {
      "cell_type": "code",
      "source": [
        "y_pred"
      ],
      "metadata": {
        "colab": {
          "base_uri": "https://localhost:8080/"
        },
        "id": "NWx3x1vZ1Xpz",
        "outputId": "02dd3c56-3919-44d7-f26c-155fca31d673"
      },
      "execution_count": null,
      "outputs": [
        {
          "output_type": "execute_result",
          "data": {
            "text/plain": [
              "array([0, 2, 1, ..., 2, 0, 0])"
            ]
          },
          "metadata": {},
          "execution_count": 142
        }
      ]
    }
  ]
}